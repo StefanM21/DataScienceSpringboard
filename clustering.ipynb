{
 "cells": [
  {
   "cell_type": "code",
   "execution_count": null,
   "metadata": {},
   "outputs": [],
   "source": [
    "### load dataset and packages\n",
    "from sklearn.decomposition import NMF\n",
    "import pandas as pd\n",
    "import matplotlib.pyplot as plt\n",
    "import seaborn as sns\n",
    "import numpy as np\n",
    "import category_encoders\n",
    "from sklearn.cluster import KMeans\n",
    "df = pd.read_pickle(\"cleaned_data.pkl\")\n"
   ]
  },
  {
   "cell_type": "code",
   "execution_count": null,
   "metadata": {},
   "outputs": [],
   "source": [
    "### create dummy data frame and binarize continuous features to qunitiles\n",
    "df_dummy = df.copy()\n",
    "conF = [\"Age\",\"first_contract_date\",\"gross_income\",\"seniority_time\"]\n",
    "\n",
    "for m in conF:\n",
    "    df_dummy[m] = pd.qcut(df_dummy[m],5,labels=[0,1,2,3,4]).to_numpy()\n",
    "    \n",
    "\n"
   ]
  },
  {
   "cell_type": "code",
   "execution_count": null,
   "metadata": {},
   "outputs": [],
   "source": [
    "### reduce data set to features in question \n",
    "coll = df_dummy.loc[:,:\"Direct_Debit\"].columns\n",
    "coll = coll.to_list()+[\"leave_ones\",\"new_ones\"]\n",
    "\n",
    "df_dummy = df_dummy.loc[coll]\n",
    "\n",
    "### features of persons\n",
    "df_f = df_dummy.loc[:,:\"customer_segment\"]\n",
    "product_basket = df_dummy.loc[:,\"Saving_Account\":\"Direct_Debit\"]\n",
    "\n"
   ]
  },
  {
   "cell_type": "code",
   "execution_count": null,
   "metadata": {},
   "outputs": [],
   "source": [
    "### reduce df_f to unique entries\n",
    "\n",
    "df_f.reset_index(level=1,inplace=True)\n",
    "df_f.drop_duplicates(subset=\"id\",inplace=True)"
   ]
  },
  {
   "cell_type": "code",
   "execution_count": null,
   "metadata": {},
   "outputs": [],
   "source": [
    "### apply binary encoder to obtain sparse matrix consisting of 0 and 1\n",
    "en = BinaryEncoder()\n",
    "en.fit(df_f)\n",
    "df_f_trans = en.transform(df_f)"
   ]
  },
  {
   "cell_type": "code",
   "execution_count": null,
   "metadata": {},
   "outputs": [],
   "source": [
    "### apply NMF to sparse matrix\n",
    "nmf = NMF(n_components=4)\n",
    "feat_components = nmf.fit_transform(df_f_trans)\n",
    "\n"
   ]
  },
  {
   "cell_type": "code",
   "execution_count": null,
   "metadata": {},
   "outputs": [],
   "source": [
    "### apply KMeans to components to obtain unambigous cluster assignments \n",
    "km = KMeans(n_components=4)\n",
    "feat_components = km.fit_transform(feat_components)"
   ]
  },
  {
   "cell_type": "code",
   "execution_count": null,
   "metadata": {},
   "outputs": [],
   "source": [
    "### now the same for the product basket; here we use the whole dataset without BinaryEncoding\n",
    "nmf = NMF(n_components=5)\n",
    "product_components =nmf.fit_transform(product_basket)\n",
    "\n",
    "\n"
   ]
  },
  {
   "cell_type": "code",
   "execution_count": null,
   "metadata": {},
   "outputs": [],
   "source": [
    "km = Kmeans(n_compnents = 4)\n",
    "product_components = km.fit_transform(product_components)"
   ]
  },
  {
   "cell_type": "code",
   "execution_count": null,
   "metadata": {},
   "outputs": [],
   "source": [
    "### heatmap of product cluster\n",
    "product_basket[\"clusters\"] = product_components\n",
    "\n",
    "colv = product_basket.columns.to_list()\n",
    "colv.remove(\"clusters\")\n",
    "product_clusters = product_basket.groupby(\"clusters\")[colv].value_counts(normalize=True)\n",
    "sns.heatmap(product_clusters,cmap=\"Blues\")\n",
    "\n"
   ]
  },
  {
   "cell_type": "code",
   "execution_count": null,
   "metadata": {},
   "outputs": [],
   "source": [
    "\n",
    "\n"
   ]
  }
 ],
 "metadata": {
  "kernelspec": {
   "display_name": "Python 3",
   "language": "python",
   "name": "python3"
  },
  "language_info": {
   "codemirror_mode": {
    "name": "ipython",
    "version": 3
   },
   "file_extension": ".py",
   "mimetype": "text/x-python",
   "name": "python",
   "nbconvert_exporter": "python",
   "pygments_lexer": "ipython3",
   "version": "3.7.1"
  }
 },
 "nbformat": 4,
 "nbformat_minor": 2
}
