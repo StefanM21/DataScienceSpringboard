{
 "cells": [
  {
   "cell_type": "code",
   "execution_count": 1,
   "metadata": {},
   "outputs": [],
   "source": [
    "### load modules\n",
    "import pandas as pd\n",
    "import numpy as np\n",
    "import seaborn as sns\n",
    "import matplotlib.pyplot as plt \n",
    "import os\n",
    "from collections import defaultdict\n",
    "pd.set_option('display.float_format', lambda x: '%.5f' % x)\n",
    "\n",
    "\n",
    "\n",
    "\n",
    "\n"
   ]
  },
  {
   "cell_type": "code",
   "execution_count": 25,
   "metadata": {},
   "outputs": [
    {
     "name": "stderr",
     "output_type": "stream",
     "text": [
      "C:\\Users\\SMA\\Anaconda3\\lib\\site-packages\\IPython\\core\\interactiveshell.py:3049: DtypeWarning: Columns (5,8,11,15) have mixed types. Specify dtype option on import or set low_memory=False.\n",
      "  interactivity=interactivity, compiler=compiler, result=result)\n"
     ]
    }
   ],
   "source": [
    "### load data\n",
    "os.chdir(\"C:/Users/SMA/Desktop/DataScienceSpringboard/Capstone1/santander-product-recommendation\")\n",
    "\n",
    "df =  pd.read_csv(\"train_ver2.csv\",parse_dates=[\"fecha_dato\",\"fecha_alta\"])"
   ]
  },
  {
   "cell_type": "code",
   "execution_count": 26,
   "metadata": {},
   "outputs": [],
   "source": [
    "#### translate column names \n",
    "df.columns =[\"Date\",\"id\",\"EmployeeBank\",\"ResidenceCountry\",\"Sex\",\"Age\",\"first_contract_date\",\"new_customer\",\n",
    "             \"seniority_time\",\"primary_cust_in_month\",\"last_date_as_primary\",\"cust_type\",\"cust_relation_type\",\n",
    "             \"residence_index\",\"foreigner_birth\",\"spouse_with_employee\",\"channel_used\",\"deceased\",\"address_type\",\n",
    "             \"province_code\",\"province_name\",\"activity_index\",\"gross_income\",\"customer_segment\",\"Saving_Account\",\n",
    "             \"Guarantees\",\"Current_Account\",\"Derivada_Account\",\"Payroll_Account\",\"Junior_Account\",\"MP_Account\",\n",
    "             \"P_Accouont\",\"PP_Account\",\"St_deposit\",\"MT_deposit\",\"LT_deposit\",\"e_account\",\"Funds\",\"Mortage\",\n",
    "             \"Pensions\",\"Loans\",\"Taxes\",\"Credit_Card\",\"Securities\",\"Home_Account\",\"Payroll\",\"Pension\",\"Direct_Debit\"]\n",
    "\n"
   ]
  },
  {
   "cell_type": "code",
   "execution_count": 39,
   "metadata": {},
   "outputs": [
    {
     "data": {
      "text/plain": [
       "<matplotlib.axes._subplots.AxesSubplot at 0x25faf580cc0>"
      ]
     },
     "execution_count": 39,
     "metadata": {},
     "output_type": "execute_result"
    },
    {
     "data": {
      "image/png": "[encoded data removed]",
      "text/plain": [
       "<Figure size 432x288 with 1 Axes>"
      ]
     },
     "metadata": {
      "needs_background": "light"
     },
     "output_type": "display_data"
    }
   ],
   "source": []
  },
  {
   "cell_type": "code",
   "execution_count": 35,
   "metadata": {},
   "outputs": [
    {
     "name": "stdout",
     "output_type": "stream",
     "text": [
      "<class 'pandas.core.frame.DataFrame'>\n",
      "RangeIndex: 13647309 entries, 0 to 13647308\n",
      "Data columns (total 48 columns):\n",
      "Date                     datetime64[ns]\n",
      "id                       int64\n",
      "EmployeeBank             object\n",
      "ResidenceCountry         object\n",
      "Sex                      object\n",
      "Age                      object\n",
      "first_contract_date      datetime64[ns]\n",
      "new_customer             float64\n",
      "seniority_time           object\n",
      "primary_cust_in_month    float64\n",
      "last_date_as_primary     object\n",
      "cust_type                object\n",
      "cust_relation_type       object\n",
      "residence_index          object\n",
      "foreigner_birth          object\n",
      "spouse_with_employee     object\n",
      "channel_used             object\n",
      "deceased                 object\n",
      "address_type             float64\n",
      "province_code            float64\n",
      "province_name            object\n",
      "activity_index           float64\n",
      "gross_income             float64\n",
      "customer_segment         object\n",
      "Saving_Account           uint8\n",
      "Guarantees               uint8\n",
      "Current_Account          uint8\n",
      "Derivada_Account         uint8\n",
      "Payroll_Account          uint8\n",
      "Junior_Account           uint8\n",
      "MP_Account               uint8\n",
      "P_Accouont               uint8\n",
      "PP_Account               uint8\n",
      "St_deposit               uint8\n",
      "MT_deposit               uint8\n",
      "LT_deposit               uint8\n",
      "e_account                uint8\n",
      "Funds                    uint8\n",
      "Mortage                  uint8\n",
      "Pensions                 uint8\n",
      "Loans                    uint8\n",
      "Taxes                    uint8\n",
      "Credit_Card              uint8\n",
      "Securities               uint8\n",
      "Home_Account             uint8\n",
      "Payroll                  float64\n",
      "Pension                  float64\n",
      "Direct_Debit             uint8\n",
      "dtypes: datetime64[ns](2), float64(8), int64(1), object(15), uint8(22)\n",
      "memory usage: 2.9+ GB\n"
     ]
    }
   ],
   "source": [
    "\n",
    "df.info()"
   ]
  },
  {
   "cell_type": "code",
   "execution_count": 32,
   "metadata": {},
   "outputs": [],
   "source": [
    "### reduce size of sparse matrix \n",
    "colS = df.loc[:,\"Saving_Account\":].columns\n"
   ]
  },
  {
   "cell_type": "code",
   "execution_count": 34,
   "metadata": {},
   "outputs": [],
   "source": [
    "for k in colS:\n",
    "    df[k] = pd.to_numeric(df[k],downcast=\"unsigned\")"
   ]
  },
  {
   "cell_type": "code",
   "execution_count": 36,
   "metadata": {},
   "outputs": [
    {
     "data": {
      "text/plain": [
       "<matplotlib.axes._subplots.AxesSubplot at 0x25fb01060f0>"
      ]
     },
     "execution_count": 36,
     "metadata": {},
     "output_type": "execute_result"
    },
    {
     "data": {
      "image/png": "[encoded data removed]",
      "text/plain": [
       "<Figure size 432x288 with 1 Axes>"
      ]
     },
     "metadata": {
      "needs_background": "light"
     },
     "output_type": "display_data"
    }
   ],
   "source": [
    "### start first data inspection and cleaning\n",
    "\n",
    "df.Date.value_counts().plot(kind=\"bar\")\n",
    "\n",
    "df.id.value_counts().size\n",
    "df.groupby(\"Date\").id.nunique().plot(kind=\"bar\")\n"
   ]
  },
  {
   "cell_type": "code",
   "execution_count": 37,
   "metadata": {},
   "outputs": [],
   "source": [
    "df[\"EmployeeBank\"] = df[\"EmployeeBank\"].astype(\"category\")"
   ]
  },
  {
   "cell_type": "code",
   "execution_count": 38,
   "metadata": {},
   "outputs": [
    {
     "data": {
      "text/plain": [
       "<matplotlib.axes._subplots.AxesSubplot at 0x25fb00dfd68>"
      ]
     },
     "execution_count": 38,
     "metadata": {},
     "output_type": "execute_result"
    },
    {
     "data": {
      "image/png": "[encoded data removed]",
      "text/plain": [
       "<Figure size 432x288 with 1 Axes>"
      ]
     },
     "metadata": {
      "needs_background": "light"
     },
     "output_type": "display_data"
    }
   ],
   "source": [
    "### some features contain mixed data types, i.e. string & float\n",
    "### cleanStrings function \n",
    "def cleanString(x):\n",
    "    if isinstance(x,int):\n",
    "        return(x)\n",
    "    elif isinstance(x,str):\n",
    "        vor = x.rsplit(\" \")\n",
    "        if \"n\" in x.lower():\n",
    "            return(np.nan)\n",
    "        else:\n",
    "            return([int(s) for s in vor if s!=\"\"][0])\n",
    "            \n",
    "\n",
    "\n",
    "\n",
    "df.ResidenceCountry.value_counts()\n",
    "df.groupby(\"Date\").ResidenceCountry.nunique()\n",
    "df[\"ResidenceCountry\"] = df[\"ResidenceCountry\"].astype(\"category\")\n",
    "\n",
    "df.Sex.value_counts()\n",
    "df[\"Sex\"].replace({\"V\":\"W\",\"H\":\"M\"},inplace=True)\n",
    "df.groupby(\"Date\").Sex.value_counts(normalize=True).plot(kind=\"bar\",stacked=True) \n",
    "df[\"Sex\"] = df[\"Sex\"].astype(\"category\")\n",
    "\n",
    "\n",
    "df[\"Age\"] = df[\"Age\"].apply(cleanString)\n",
    "df.Age.hist()\n",
    "df.Age.describe()"
   ]
  },
  {
   "cell_type": "code",
   "execution_count": 23,
   "metadata": {},
   "outputs": [
    {
     "data": {
      "text/plain": [
       "2754958     W\n",
       "6015978     M\n",
       "537467      M\n",
       "3584456     W\n",
       "11934040    M\n",
       "2464338     W\n",
       "11447961    W\n",
       "3944742     M\n",
       "6463949     W\n",
       "5271757     M\n",
       "Name: Sex, dtype: category\n",
       "Categories (2, object): [M, W]"
      ]
     },
     "execution_count": 23,
     "metadata": {},
     "output_type": "execute_result"
    }
   ],
   "source": []
  },
  {
   "cell_type": "code",
   "execution_count": 40,
   "metadata": {},
   "outputs": [],
   "source": [
    "### replace date feature to time differences \n",
    "df.first_contract_date.value_counts()\n",
    "df.first_contract_date.isna().sum()\n",
    "delta_t = (df.Date  - df.first_contract_date)/np.timedelta64(1,\"D\")\n",
    "df[\"first_contract_date\"]= delta_t"
   ]
  },
  {
   "cell_type": "code",
   "execution_count": 41,
   "metadata": {},
   "outputs": [
    {
     "data": {
      "text/plain": [
       "<matplotlib.axes._subplots.AxesSubplot at 0x25fade526a0>"
      ]
     },
     "execution_count": 41,
     "metadata": {},
     "output_type": "execute_result"
    },
    {
     "data": {
      "image/png": "[encoded data removed]",
      "text/plain": [
       "<Figure size 432x288 with 1 Axes>"
      ]
     },
     "metadata": {
      "needs_background": "light"
     },
     "output_type": "display_data"
    }
   ],
   "source": [
    "\n",
    "df.new_customer.value_counts(normalize=True)\n",
    "df.groupby(\"Date\").new_customer.value_counts(normalize=True).plot(kind=\"bar\",stacked=True)\n",
    "df[\"new_customer\"] = df.new_customer.astype(\"category\")\n",
    "\n",
    "\n",
    "df[\"seniority_time\"]= df.seniority_time.apply(cleanString)\n",
    "df[\"seniority_time\"] = df.seniority_time.replace({-999999.0:np.nan})\n",
    "\n"
   ]
  },
  {
   "cell_type": "code",
   "execution_count": 42,
   "metadata": {},
   "outputs": [
    {
     "data": {
      "text/plain": [
       "28.00000    4409600\n",
       "8.00000     1275219\n",
       "46.00000     682304\n",
       "41.00000     605164\n",
       "15.00000     429322\n",
       "30.00000     396759\n",
       "29.00000     367023\n",
       "50.00000     342543\n",
       "3.00000      313397\n",
       "11.00000     294684\n",
       "36.00000     280026\n",
       "33.00000     265749\n",
       "47.00000     238259\n",
       "35.00000     235700\n",
       "6.00000      192996\n",
       "48.00000     185888\n",
       "45.00000     183067\n",
       "18.00000     178562\n",
       "37.00000     164238\n",
       "39.00000     155706\n",
       "14.00000     144679\n",
       "10.00000     129912\n",
       "7.00000      124933\n",
       "21.00000     122283\n",
       "13.00000     119390\n",
       "2.00000      114128\n",
       "12.00000     104295\n",
       "43.00000     100115\n",
       "9.00000       97188\n",
       "17.00000      90538\n",
       "31.00000      88618\n",
       "26.00000      85202\n",
       "27.00000      84962\n",
       "32.00000      84009\n",
       "24.00000      83003\n",
       "25.00000      79059\n",
       "20.00000      71567\n",
       "38.00000      70968\n",
       "19.00000      64618\n",
       "23.00000      64363\n",
       "4.00000       60291\n",
       "16.00000      57310\n",
       "49.00000      50927\n",
       "34.00000      49282\n",
       "40.00000      42341\n",
       "22.00000      40181\n",
       "5.00000       38783\n",
       "1.00000       37704\n",
       "44.00000      22525\n",
       "42.00000      17660\n",
       "52.00000       9460\n",
       "51.00000       7218\n",
       "Name: province_code, dtype: int64"
      ]
     },
     "execution_count": 42,
     "metadata": {},
     "output_type": "execute_result"
    }
   ],
   "source": [
    "\n",
    "df.primary_cust_in_month = df.primary_cust_in_month.astype(\"category\")\n",
    "\n",
    "df.last_date_as_primary\n",
    "\n",
    "df.cust_type.value_counts()\n",
    "\n",
    "df[\"cust_type\"] = df.cust_type.replace({\"P\":5}).astype(float)\n",
    "df[\"cust_type\"] = df.cust_type.astype(\"category\")\n",
    "\n",
    "df.cust_relation_type.value_counts()\n",
    "df[\"cust_relation_type\"] = df[\"cust_relation_type\"].replace({\"N\":np.nan})\n",
    "df.groupby(\"Date\").cust_relation_type.value_counts()\n",
    "df[\"cust_relation_type\"] = df[\"cust_relation_type\"].astype(\"category\")\n",
    "\n",
    "df[\"residence_index\"].value_counts()\n",
    "df.residence_index.isna().sum()\n",
    "df[\"residence_index\"]= df.residence_index.replace({\"S\":\"Y\"}).astype(\"category\")\n",
    "\n",
    "df.foreigner_birth.value_counts()\n",
    "df[\"foreigner_birth\"] = df.foreigner_birth.replace({\"S\":\"Y\"}).astype(\"category\")\n",
    "\n",
    "df.spouse_with_employee.isna().sum()\n",
    "df[\"spouse_with_employee\"] = df.spouse_with_employee.replace({\"S\":\"Y\"}).astype(\"category\")\n",
    "\n",
    "df.channel_used.value_counts()\n",
    "df.channel_used.unique()\n",
    "df[\"channel_used\"] = df.channel_used.astype(\"category\")\n",
    "\n",
    "df[\"deceased\"].value_counts()\n",
    "df[\"deceased\"] = df.deceased.replace({\"S\":\"Y\"}).astype(\"category\")\n",
    "\n",
    "df.address_type.value_counts()\n",
    "df[\"address_type\"] = df.address_type.astype(\"category\")\n",
    "\n",
    "df[\"province_code\"].value_counts()"
   ]
  },
  {
   "cell_type": "code",
   "execution_count": 43,
   "metadata": {},
   "outputs": [
    {
     "data": {
      "text/plain": [
       "count   10852934.00000\n",
       "mean      134254.31824\n",
       "std       230620.23882\n",
       "min         1202.73000\n",
       "25%        68710.98000\n",
       "50%       101850.00000\n",
       "75%       155955.96000\n",
       "max     28894395.51000\n",
       "Name: gross_income, dtype: float64"
      ]
     },
     "execution_count": 43,
     "metadata": {},
     "output_type": "execute_result"
    }
   ],
   "source": [
    "\n",
    "df.province_name.value_counts()\n",
    "df[\"province_name\"] = df.province_name.astype(\"category\")\n",
    "\n",
    "df.activity_index.value_counts()\n",
    "df[\"activity_index\"] = df.activity_index.astype(\"category\")\n",
    "\n",
    "df[\"customer_segment\"].value_counts()\n",
    "df[\"customer_segment\"].replace({\"02 - PARTICULARES\":2,\"03 - UNIVERSITARIO\":3,\"01 - TOP\":1},inplace=True)\n",
    "df[\"customer_segment\"]  = df[\"customer_segment\"].astype(\"category\")\n",
    "df.gross_income.describe()\n",
    "\n"
   ]
  },
  {
   "cell_type": "code",
   "execution_count": 45,
   "metadata": {},
   "outputs": [],
   "source": [
    "### screen for outliers\n",
    "out = defaultdict(list)\n",
    "\n",
    "cols = df.columns[2:19]\n",
    "for col in cols:\n",
    "    mcol = df[col]\n",
    "    if df.dtypes[col] ==\"float64\":\n",
    "        dev = mcol.mean() + 3*mcol.std()\n",
    "        ixx_to = np.where(mcol>dev)[0].tolist()\n",
    "        out[col].extend([len(ixx_to)/len(mcol),ixx_to])\n",
    "    else: \n",
    "        dev = mcol.value_counts(normalize=True)\n",
    "        ixm = dev[dev< 0.015].index \n",
    "        ixx_to = []\n",
    "        for i in ixm:\n",
    "            ixx_to.extend(np.where(i==mcol)[0])\n",
    "        out[col].extend([len(ixx_to)/len(mcol),ixx_to])\n",
    "\n",
    "\n",
    "nameS = list();values=list()           \n",
    "for k in out.keys():\n",
    "    if out[k][0]>0:\n",
    "        values.append(out[k][0])\n",
    "        nameS.append(k)\n",
    "        \n",
    "outliers = pd.Series(values,index=nameS)\n",
    "\n",
    "\n"
   ]
  },
  {
   "cell_type": "code",
   "execution_count": 46,
   "metadata": {},
   "outputs": [
    {
     "data": {
      "text/plain": [
       "EmployeeBank            0.00063\n",
       "ResidenceCountry        0.00483\n",
       "Age                     0.00596\n",
       "primary_cust_in_month   0.00182\n",
       "last_date_as_primary    0.00160\n",
       "cust_type               0.00050\n",
       "cust_relation_type      0.00040\n",
       "residence_index         0.00483\n",
       "spouse_with_employee    0.00000\n",
       "channel_used            0.13171\n",
       "deceased                0.00255\n",
       "dtype: float64"
      ]
     },
     "execution_count": 46,
     "metadata": {},
     "output_type": "execute_result"
    }
   ],
   "source": []
  },
  {
   "cell_type": "code",
   "execution_count": 47,
   "metadata": {},
   "outputs": [],
   "source": [
    "### Age and Gross Income is checked manually\n",
    "### Age: most people's age is limited and children are not likely to take responsibility over an account \n",
    "age = df.Age.copy()\n",
    "age[age >110]= np.nan\n",
    "age[age <12]= np.nan\n",
    "### very unlikely that people are having more than 2.5 million gross income.. \n",
    "gI = df.gross_income.copy()\n",
    "gI[gI>2500000] =  np.nan\n",
    "\n",
    "df[\"Age\"]=age\n",
    "df[\"gross_income\"]=gI\n"
   ]
  },
  {
   "cell_type": "code",
   "execution_count": 49,
   "metadata": {},
   "outputs": [],
   "source": [
    "### now calculate target values, i.e. sparse matrix of products that will be added the next month\n",
    "\n",
    "### separate sparse matrix and sort values accoding to client id and Date\n",
    "### drop unique id entries: there is nothing they will add\n",
    "\n",
    "sparse = df.loc[:,\"Saving_Account\":\"Direct_Debit\"].copy()\n",
    "\n",
    "sparse[\"Date\"] = df[\"Date\"]\n",
    "sparse[\"id\"] = df[\"id\"]\n",
    "\n",
    "su = sparse[sparse.id.duplicated(False)].copy()\n",
    "\n",
    "su.sort_values([\"id\",\"Date\"],inplace=True)\n",
    "\n",
    "su_date_id = su[[\"Date\",\"id\"]]\n",
    "su.drop(columns= [\"Date\",\"id\"],inplace=True)\n",
    "\n",
    "\n"
   ]
  },
  {
   "cell_type": "code",
   "execution_count": 50,
   "metadata": {},
   "outputs": [],
   "source": [
    "### calculate product migration over whole matrix; therefore identification of last entries along customer ids is necessary\n",
    "### then simple boolean comparision\n",
    "\n",
    "last_one = np.where(su_date_id[\"id\"] != su_date_id[\"id\"].shift(-1))[0]\n",
    "\n",
    "a = su.to_numpy()\n",
    "\n",
    "ref = su.to_numpy() \n",
    "comp = su.shift(-1).to_numpy()\n",
    "\n",
    "boolS = (ref!= comp) & (comp==1)\n",
    "\n",
    "new_boolS = np.delete(boolS,last_one,axis=0)"
   ]
  },
  {
   "cell_type": "code",
   "execution_count": 52,
   "metadata": {},
   "outputs": [],
   "source": [
    "#### give back indices where changes in product basket occurred and transform to sparse matrix output \n",
    "x,y = np.where(new_boolS ==True)\n",
    "\n",
    "s1 = su_date_id[\"id\"].to_numpy()\n",
    "s1 =np.delete(s1,last_one,axis=0)\n",
    "\n",
    "s2 = su_date_id[\"Date\"].to_numpy()\n",
    "s2 = np.delete(s2,last_one,axis=0)\n",
    "\n",
    "data_sp = {\"ids\":s1[x],\"Dates\":s2[x],\"values_\":y.tolist()}\n",
    "\n",
    "sp_target = pd.DataFrame(data_sp)\n",
    "\n",
    "sp_target[\"ik\"]= 1\n",
    "spx = sp_target.pivot_table(index=[\"Dates\",\"ids\"],columns=\"values_\",values=\"ik\")\n",
    "spx.fillna(0,inplace=True)\n",
    "\n"
   ]
  },
  {
   "cell_type": "code",
   "execution_count": 59,
   "metadata": {},
   "outputs": [],
   "source": [
    "### concatenate sparse target matrix with frame\n",
    "\n",
    "spx.sort_index(level=[0,1],inplace=True)\n",
    "\n",
    "spx.columns = df.columns[24:] + \"_target\"\n",
    "\n",
    "spx.index.names =[\"Date\",\"id\"]\n",
    "\n",
    "df.set_index([\"Date\",\"id\"],inplace=True)\n",
    "df.sort_index(level=[0,1],inplace=True)\n",
    "\n",
    "nd = pd.concat([df,spx],axis=1,ignore_index=False)\n",
    "\n",
    "\n"
   ]
  },
  {
   "cell_type": "code",
   "execution_count": 60,
   "metadata": {},
   "outputs": [],
   "source": [
    "#### fill Na with zero; i.e. Na result from those who did not have any change in basket and those who were unique\n",
    "repl = nd.loc[:,\"Saving_Account_target\":].copy()\n",
    "repl.fillna(0,inplace=True)\n",
    "nd.loc[:,\"Saving_Account_target\":] = repl.to_numpy()\n",
    "\n"
   ]
  },
  {
   "cell_type": "code",
   "execution_count": 61,
   "metadata": {},
   "outputs": [],
   "source": [
    "### generate additional features: a) how many products has a client purchased in comparsion to the month before \n",
    "### b) how many products has a client sold off before \n",
    "\n",
    "first_one = np.where(su_date_id[\"id\"]!= su_date_id[\"id\"].shift(1))[0]\n",
    "compp = su.shift(1).to_numpy()\n",
    "boolSN = (ref==1) & (compp != ref)\n",
    "boolSL = (ref==0) & (compp != ref)\n",
    "boolSN = np.delete(boolSN,first_one,axis=0)\n",
    "boolSL = np.delete(boolSL,first_one,axis=0)\n",
    "s_1 = np.delete(su_date_id[\"id\"].to_numpy(),first_one,axis=0)\n",
    "s_2 = np.delete(su_date_id[\"Date\"].to_numpy(),first_one,axis=0)\n",
    "switching = {\"id\":s_1,\"Date\":s_2,\"new_ones\":boolSN.sum(axis=1),\"leave_ones\":boolSL.sum(axis=1)}\n",
    "switching = pd.DataFrame(switching)\n",
    "switching.set_index([\"Date\",\"id\"],inplace=True)\n",
    "switching.sort_index(level=[0,1],inplace=True) \n",
    "\n",
    "\n",
    "\n"
   ]
  },
  {
   "cell_type": "code",
   "execution_count": 62,
   "metadata": {},
   "outputs": [],
   "source": [
    "#### merge an fill missings with 0 \n",
    "nd = pd.concat([nd,switching],axis=1,ignore_index=False)\n",
    "ndex = nd[[\"new_ones\",\"leave_ones\"]].copy()\n",
    "ndex.fillna(0,inplace=True)\n",
    "nd.loc[:,[\"new_ones\",\"leave_ones\"]] = ndex.to_numpy()\n"
   ]
  },
  {
   "cell_type": "code",
   "execution_count": 77,
   "metadata": {},
   "outputs": [],
   "source": [
    "### clean up\n",
    "for i in nd.loc[:,\"Saving_Account_target\":].columns:\n",
    "    nd[i] = pd.to_numeric(nd[i],downcast=\"unsigned\")\n",
    "\n"
   ]
  },
  {
   "cell_type": "code",
   "execution_count": 81,
   "metadata": {},
   "outputs": [],
   "source": [
    "df = nd.copy()"
   ]
  },
  {
   "cell_type": "code",
   "execution_count": 82,
   "metadata": {},
   "outputs": [],
   "source": [
    "del(nd)"
   ]
  },
  {
   "cell_type": "code",
   "execution_count": 84,
   "metadata": {},
   "outputs": [],
   "source": [
    "os.chdir(\"...\")\n",
    "df.to_pickle(\"df_targets.pkl\")"
   ]
  },
  {
   "cell_type": "code",
   "execution_count": 48,
   "metadata": {},
   "outputs": [
    {
     "data": {
      "text/plain": [
       "<matplotlib.axes._subplots.AxesSubplot at 0x25fb00df588>"
      ]
     },
     "execution_count": 48,
     "metadata": {},
     "output_type": "execute_result"
    },
    {
     "data": {
      "image/png": "[encoded data removed]",
      "text/plain": [
       "<Figure size 432x288 with 1 Axes>"
      ]
     },
     "metadata": {
      "needs_background": "light"
     },
     "output_type": "display_data"
    }
   ],
   "source": [
    "### na statistics & visualization \n",
    "\n"
   ]
  },
  {
   "cell_type": "code",
   "execution_count": null,
   "metadata": {},
   "outputs": [],
   "source": []
  }
 ],
 "metadata": {
  "kernelspec": {
   "display_name": "Python 3",
   "language": "python",
   "name": "python3"
  },
  "language_info": {
   "codemirror_mode": {
    "name": "ipython",
    "version": 3
   },
   "file_extension": ".py",
   "mimetype": "text/x-python",
   "name": "python",
   "nbconvert_exporter": "python",
   "pygments_lexer": "ipython3",
   "version": "3.7.3"
  }
 },
 "nbformat": 4,
 "nbformat_minor": 2
}
