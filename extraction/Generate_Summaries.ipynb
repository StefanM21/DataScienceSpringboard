{
 "cells": [
  {
   "cell_type": "code",
   "execution_count": 1,
   "metadata": {},
   "outputs": [],
   "source": [
    "import os\n",
    "from fastai.text import *\n",
    "from fastai import *\n",
    "import pandas as pd\n",
    "import numpy as np\n",
    "from numba import jit\n",
    "from sklearn.cluster import KMeans\n",
    "from sklearn.metrics import pairwise_distances_argmin_min\n",
    "import seaborn as sns"
   ]
  },
  {
   "cell_type": "code",
   "execution_count": 3,
   "metadata": {},
   "outputs": [],
   "source": [
    "## load the training set databunch and the respective encoder \n",
    "os.chdir(\"D:/fast_ai/NLP/cap/encoder/new_extraction\")\n",
    "path = Path(\"D:/fast_ai/NLP/cap/encoder/new_extraction\")\n",
    "all_train = pd.read_pickle(\"all_df.pkl\") ## here text and train is combined \n",
    "enc = pd.read_pickle(\"encX.pkl\") ## this is the encoding matrix from language model \n",
    "fastai_bunch = load_data(path,\"tran_test\") ## data in fastai text format to extract numbers referring to look up in encoder matrix"
   ]
  },
  {
   "cell_type": "code",
   "execution_count": 4,
   "metadata": {},
   "outputs": [],
   "source": [
    "dataO = fastai_bunch.train_ds.items  ## here: numbers for vocabs - each review has array of number respresenting the words\n",
    "## each word can then be looked up in encoder array"
   ]
  },
  {
   "cell_type": "code",
   "execution_count": 5,
   "metadata": {},
   "outputs": [],
   "source": [
    "## wrapper to select subset of data \n",
    "def select_subset(train_df,col=\"product_title\",conditions=\"Candy Crush Saga\"):\n",
    "    return np.where(train_df[col] == conditions)[0]\n"
   ]
  },
  {
   "cell_type": "code",
   "execution_count": 6,
   "metadata": {},
   "outputs": [],
   "source": [
    "### 1) created matrix of all words in review,i.e. number words X 400\n",
    "###2 ) calulates average \n",
    "##3) returns matrix n_revies X400\n",
    "## might take some time to run, because numba does not work due to some incompatibility \n",
    "def create_review_embedding(dataO,enc):\n",
    "    outvec = np.zeros(400)\n",
    "    \n",
    "    for i in dataO:\n",
    "         outvec = np.vstack((outvec,enc[i].mean(axis=0)))\n",
    "    \n",
    "    return np.delete(outvec,(0),axis=0)"
   ]
  },
  {
   "cell_type": "code",
   "execution_count": null,
   "metadata": {},
   "outputs": [],
   "source": [
    "vecs = create_review_embedding(dataO,enc.values)"
   ]
  },
  {
   "cell_type": "code",
   "execution_count": null,
   "metadata": {},
   "outputs": [],
   "source": [
    "pd.DataFrame(vecs).to_pickle(\"vecS.pkl\")\n"
   ]
  },
  {
   "cell_type": "code",
   "execution_count": 7,
   "metadata": {},
   "outputs": [],
   "source": [
    "vecs = pd.read_pickle(\"vecS.pkl\")"
   ]
  },
  {
   "cell_type": "code",
   "execution_count": 8,
   "metadata": {},
   "outputs": [],
   "source": [
    "### function to create cluters and to return reviews closest to cluster center\n",
    "\n",
    "def highlight_most_representative_reviews(vecs,n_reviews=None,ixx=vecs.index):\n",
    "    vecS = vecs.iloc[ixx,:].copy()\n",
    "    if n_reviews is None:\n",
    "        n_reviews = np.int(vecS.shape[0]**0.5)\n",
    "    km = KMeans(n_clusters=n_reviews)\n",
    "    km = km.fit(vecS)\n",
    "    closeness,_ = pairwise_distances_argmin_min(km.cluster_centers_,vecS)\n",
    "    return (closeness,km.labels_)\n",
    "\n"
   ]
  },
  {
   "cell_type": "code",
   "execution_count": 10,
   "metadata": {},
   "outputs": [],
   "source": [
    "### make an example with product candy saga game \n",
    "\n",
    "\n",
    "\n",
    "candy_index = select_subset(all_train)\n",
    "\n",
    "ix_close, cluster_labels = highlight_most_representative_reviews(vecs,n_reviews=10,ixx=candy_index)\n",
    "\n",
    "candy_data = all_train.iloc[candy_index,:].copy()\n",
    "\n",
    "most_rep = candy_data.iloc[ix_close,:]\n",
    "\n",
    "candy_data[\"cluster\"] = cluster_labels\n",
    "\n",
    "\n"
   ]
  },
  {
   "cell_type": "code",
   "execution_count": null,
   "metadata": {},
   "outputs": [],
   "source": [
    "## print out most reprsentative reviews\n",
    "file= open(\"candy_saga_2.txt\",\"w\")\n",
    "for i in most_rep[\"reviews.text\"]:\n",
    "    file.write(\"\\n\"+i)\n",
    "file.close()\n"
   ]
  }
 ],
 "metadata": {
  "kernelspec": {
   "display_name": "Python 3",
   "language": "python",
   "name": "python3"
  },
  "language_info": {
   "codemirror_mode": {
    "name": "ipython",
    "version": 3
   },
   "file_extension": ".py",
   "mimetype": "text/x-python",
   "name": "python",
   "nbconvert_exporter": "python",
   "pygments_lexer": "ipython3",
   "version": "3.7.3"
  }
 },
 "nbformat": 4,
 "nbformat_minor": 2
}
